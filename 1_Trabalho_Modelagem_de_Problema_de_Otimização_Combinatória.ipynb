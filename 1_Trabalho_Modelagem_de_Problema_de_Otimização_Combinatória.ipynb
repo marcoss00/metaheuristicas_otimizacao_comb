{
  "nbformat": 4,
  "nbformat_minor": 0,
  "metadata": {
    "colab": {
      "provenance": [],
      "authorship_tag": "ABX9TyM0JN6zIfGRZUzsepGme6OV",
      "include_colab_link": true
    },
    "kernelspec": {
      "name": "python3",
      "display_name": "Python 3"
    },
    "language_info": {
      "name": "python"
    }
  },
  "cells": [
    {
      "cell_type": "markdown",
      "metadata": {
        "id": "view-in-github",
        "colab_type": "text"
      },
      "source": [
        "<a href=\"https://colab.research.google.com/github/marcoss00/metaheuristicas_otimizacao_comb/blob/master/1_Trabalho_Modelagem_de_Problema_de_Otimiza%C3%A7%C3%A3o_Combinat%C3%B3ria.ipynb\" target=\"_parent\"><img src=\"https://colab.research.google.com/assets/colab-badge.svg\" alt=\"Open In Colab\"/></a>"
      ]
    },
    {
      "cell_type": "markdown",
      "source": [
        "*Disciplina: Metaheurísticas para Otimização Combinatória*  \n",
        "*Discente: Marcos Vinicius Vasconcelos Gomes*  \n",
        "*Número de matrícula: 202499970196*"
      ],
      "metadata": {
        "id": "0MVqc_EmKP2f"
      }
    },
    {
      "cell_type": "markdown",
      "source": [
        "# Modelagem de Problema de Otimização Combinatória"
      ],
      "metadata": {
        "id": "4CKpiQYFmOUP"
      }
    },
    {
      "cell_type": "markdown",
      "source": [
        "## Descrição do Problema\n",
        "\n",
        "\n",
        "> Uma empresa precisa, anualmente, planejar a execução de uma série de projetos que serão terceirizados para diferentes subsidiárias e estúdios parceiros.  \n",
        "Para o planejamento deste ano há 9 projetos a serem planejados para execução por 9 terceirizadas. Cada parceira pode executar apenas um projeto e não há qualquer ordem de precedência entre eles.  \n",
        "A tabela abaixo apresenta a matriz de custos da relação empresa (𝐸) x projeto (𝑃), com o respectivo custo que cada empresa cobra para realizar cada projeto.\n",
        "\n"
      ],
      "metadata": {
        "id": "9BYbynOMmXx3"
      }
    },
    {
      "cell_type": "markdown",
      "source": [
        "**Table 1 – Matriz de Custos (Empresa × Projeto)**\n",
        "\n",
        "| Emp.\\Proj. | P1 | P2 | P3 | P4 | P5 | P6 | P7 | P8 | P9 |\n",
        "|:----------:|:--:|:--:|:--:|:--:|:--:|:--:|:--:|:--:|:--:|\n",
        "| E1         | 12 | 18 | 15 | 22 |  9 | 14 | 20 | 11 | 17 |\n",
        "| E2         | 19 |  8 | 13 | 25 | 16 | 10 |  7 | 21 | 24 |\n",
        "| E3         |  6 | 14 | 27 | 10 | 12 | 19 | 23 | 16 |  8 |\n",
        "| E4         | 17 | 11 | 20 |  9 | 18 | 13 | 25 | 14 | 22 |\n",
        "| E5         | 10 | 23 | 16 | 14 |  7 | 21 | 12 | 19 | 15 |\n",
        "| E6         | 13 | 25 |  9 | 17 | 11 |  8 | 16 | 22 | 20 |\n",
        "| E7         | 21 | 16 | 24 | 12 | 20 | 15 |  9 | 18 | 10 |\n",
        "| E8         |  8 | 19 | 11 | 16 | 22 | 17 | 14 | 10 | 13 |\n",
        "| E9         | 15 | 10 | 18 | 21 | 13 | 12 | 22 |  9 | 16 |"
      ],
      "metadata": {
        "id": "qtX4lIeprJPT"
      }
    },
    {
      "cell_type": "markdown",
      "source": [
        "\n",
        "\n",
        "> O problema então é alocar cada empresa a um e somente um projeto específico, de forma que o custo total dessas alocações seja o menor possível.\n",
        "\n"
      ],
      "metadata": {
        "id": "KuDxd7dztKqA"
      }
    },
    {
      "cell_type": "markdown",
      "source": [
        "## Modelagem"
      ],
      "metadata": {
        "id": "PgQlNgTttU7_"
      }
    },
    {
      "cell_type": "markdown",
      "source": [
        "A ideia é associar exatamente uma empresa a um projeto, minimizando o custo total da alocação, logo a função objetivo é uma função de minimização."
      ],
      "metadata": {
        "id": "QAw16SwkHK1k"
      }
    },
    {
      "cell_type": "markdown",
      "source": [
        "###**Função objetivo:**\n",
        "$$\n",
        "\\begin{aligned}\n",
        "\\text{Minimizar } Z =\\ & 12x_{11} + 18x_{12} + 15x_{13} + 22x_{14} + 9x_{15} + 14x_{16} + 20x_{17} + 11x_{18} + 17x_{19} \\\\\n",
        "+& 19x_{21} + 8x_{22} + 13x_{23} + 25x_{24} + 16x_{25} + 10x_{26} + 7x_{27} + 21x_{28} + 24x_{29} \\\\\n",
        "+& 6x_{31} + 14x_{32} + 27x_{33} + 10x_{34} + 12x_{35} + 19x_{36} + 23x_{37} + 16x_{38} + 8x_{39} \\\\\n",
        "+& 17x_{41} + 11x_{42} + 20x_{43} + 9x_{44} + 18x_{45} + 13x_{46} + 25x_{47} + 14x_{48} + 22x_{49} \\\\\n",
        "+& 10x_{51} + 23x_{52} + 16x_{53} + 14x_{54} + 7x_{55} + 21x_{56} + 12x_{57} + 19x_{58} + 15x_{59} \\\\\n",
        "+& 13x_{61} + 25x_{62} + 9x_{63} + 17x_{64} + 11x_{65} + 8x_{66} + 16x_{67} + 22x_{68} + 20x_{69} \\\\\n",
        "+& 21x_{71} + 16x_{72} + 24x_{73} + 12x_{74} + 20x_{75} + 15x_{76} + 9x_{77} + 18x_{78} + 10x_{79} \\\\\n",
        "+& 8x_{81} + 19x_{82} + 11x_{83} + 16x_{84} + 22x_{85} + 17x_{86} + 14x_{87} + 10x_{88} + 13x_{89} \\\\\n",
        "+& 15x_{91} + 10x_{92} + 18x_{93} + 21x_{94} + 13x_{95} + 12x_{96} + 22x_{97} + 9x_{98} + 16x_{99}\n",
        "\\end{aligned}\n",
        "$$"
      ],
      "metadata": {
        "id": "roVESze-tYtj"
      }
    },
    {
      "cell_type": "markdown",
      "source": [
        "$$\n",
        "x_{ij} =\n",
        "\\begin{cases}\n",
        "1, & \\text{se a empresa } E_i \\text{ for alocada ao projeto } P_j \\\\\n",
        "0, & \\text{caso contrário}\n",
        "\\end{cases}\n",
        "$$"
      ],
      "metadata": {
        "id": "_Hkhv0TwIUFb"
      }
    },
    {
      "cell_type": "markdown",
      "source": [
        "###**Restrições:**\n",
        "\n",
        "No total, temos 18 equações de restrição:\n",
        "\n",
        "* 9 equações para garantir que cada empresa realize exatamente um projeto. Cada linha representa uma empresa e garante que ela seja alocada a um único projeto.\n",
        "\n",
        "* 9 equações para garantir que cada projeto seja realizado por exatamente uma empresa. Cada linha representa um projeto e garante que ele será alocado a uma única empresa\n",
        "\n",
        "$$\n",
        "\\text{Sujeito a:} \\quad\n",
        "\\begin{cases}\n",
        "x_{11} + x_{12} + x_{13} + x_{14} + x_{15} + x_{16} + x_{17} + x_{18} + x_{19} = 1 \\quad \\text{(Empresa 1)} \\\\\n",
        "x_{21} + x_{22} + x_{23} + x_{24} + x_{25} + x_{26} + x_{27} + x_{28} + x_{29} = 1 \\quad \\text{(Empresa 2)} \\\\\n",
        "x_{31} + x_{32} + x_{33} + x_{34} + x_{35} + x_{36} + x_{37} + x_{38} + x_{39} = 1 \\quad \\text{(Empresa 3)} \\\\\n",
        "x_{41} + x_{42} + x_{43} + x_{44} + x_{45} + x_{46} + x_{47} + x_{48} + x_{49} = 1 \\quad \\text{(Empresa 4)} \\\\\n",
        "x_{51} + x_{52} + x_{53} + x_{54} + x_{55} + x_{56} + x_{57} + x_{58} + x_{59} = 1 \\quad \\text{(Empresa 5)} \\\\\n",
        "x_{61} + x_{62} + x_{63} + x_{64} + x_{65} + x_{66} + x_{67} + x_{68} + x_{69} = 1 \\quad \\text{(Empresa 6)} \\\\\n",
        "x_{71} + x_{72} + x_{73} + x_{74} + x_{75} + x_{76} + x_{77} + x_{78} + x_{79} = 1 \\quad \\text{(Empresa 7)} \\\\\n",
        "x_{81} + x_{82} + x_{83} + x_{84} + x_{85} + x_{86} + x_{87} + x_{88} + x_{89} = 1 \\quad \\text{(Empresa 8)} \\\\\n",
        "x_{91} + x_{92} + x_{93} + x_{94} + x_{95} + x_{96} + x_{97} + x_{98} + x_{99} = 1 \\quad \\text{(Empresa 9)} \\\\\n",
        "x_{11} + x_{21} + x_{31} + x_{41} + x_{51} + x_{61} + x_{71} + x_{81} + x_{91} = 1 \\quad \\text{(Projeto 1)} \\\\\n",
        "x_{12} + x_{22} + x_{32} + x_{42} + x_{52} + x_{62} + x_{72} + x_{82} + x_{92} = 1 \\quad \\text{(Projeto 2)} \\\\\n",
        "x_{13} + x_{23} + x_{33} + x_{43} + x_{53} + x_{63} + x_{73} + x_{83} + x_{93} = 1 \\quad \\text{(Projeto 3)} \\\\\n",
        "x_{14} + x_{24} + x_{34} + x_{44} + x_{54} + x_{64} + x_{74} + x_{84} + x_{94} = 1 \\quad \\text{(Projeto 4)} \\\\\n",
        "x_{15} + x_{25} + x_{35} + x_{45} + x_{55} + x_{65} + x_{75} + x_{85} + x_{95} = 1 \\quad \\text{(Projeto 5)} \\\\\n",
        "x_{16} + x_{26} + x_{36} + x_{46} + x_{56} + x_{66} + x_{76} + x_{86} + x_{96} = 1 \\quad \\text{(Projeto 6)} \\\\\n",
        "x_{17} + x_{27} + x_{37} + x_{47} + x_{57} + x_{67} + x_{77} + x_{87} + x_{97} = 1 \\quad \\text{(Projeto 7)} \\\\\n",
        "x_{18} + x_{28} + x_{38} + x_{48} + x_{58} + x_{68} + x_{78} + x_{88} + x_{98} = 1 \\quad \\text{(Projeto 8)} \\\\\n",
        "x_{19} + x_{29} + x_{39} + x_{49} + x_{59} + x_{69} + x_{79} + x_{89} + x_{99} = 1 \\quad \\text{(Projeto 9)} \\\\\n",
        "x_{ij} \\in \\{0, 1\\} \\quad \\forall i, j\\ = \\{1,2,3,4,5,6,7,8,9\\}\n",
        "\\end{cases}\n",
        "$$"
      ],
      "metadata": {
        "id": "0OgdvnDD6bXF"
      }
    }
  ]
}