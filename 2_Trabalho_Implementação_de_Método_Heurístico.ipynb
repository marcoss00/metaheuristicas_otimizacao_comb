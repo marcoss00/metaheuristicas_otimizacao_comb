{
  "nbformat": 4,
  "nbformat_minor": 0,
  "metadata": {
    "colab": {
      "provenance": [],
      "authorship_tag": "ABX9TyMi7W2HjJ31U4n0fS+9Gv3j",
      "include_colab_link": true
    },
    "kernelspec": {
      "name": "python3",
      "display_name": "Python 3"
    },
    "language_info": {
      "name": "python"
    }
  },
  "cells": [
    {
      "cell_type": "markdown",
      "metadata": {
        "id": "view-in-github",
        "colab_type": "text"
      },
      "source": [
        "<a href=\"https://colab.research.google.com/github/marcoss00/metaheuristicas_otimizacao_comb/blob/master/2_Trabalho_Implementa%C3%A7%C3%A3o_de_M%C3%A9todo_Heur%C3%ADstico.ipynb\" target=\"_parent\"><img src=\"https://colab.research.google.com/assets/colab-badge.svg\" alt=\"Open In Colab\"/></a>"
      ]
    },
    {
      "cell_type": "markdown",
      "source": [
        "*Disciplina: Metaheurísticas para Otimização Combinatória*  \n",
        "*Discente: Marcos Vinicius Vasconcelos Gomes*  \n",
        "*Número de matrícula: 202499970196*"
      ],
      "metadata": {
        "id": "W4IykaJ_hsLR"
      }
    },
    {
      "cell_type": "markdown",
      "source": [
        "# Implementação de Método Heurístico"
      ],
      "metadata": {
        "id": "bAipvNbzhtkf"
      }
    },
    {
      "cell_type": "markdown",
      "source": [
        "## Descrição do Problema"
      ],
      "metadata": {
        "id": "frXkzn1MjDk7"
      }
    },
    {
      "cell_type": "markdown",
      "source": [
        "Dado o problema de otimização combinatória modelado no Trabalho 1, o aluno deve\n",
        "propôr e implementar um método heurístico que realize a busca por soluções naquele problema.  \n",
        "\n",
        "Deve ser descrito para o método heurístico:\n",
        "\n",
        "* Como a solução é codificada;\n",
        "* Como a solução inicial é gerada;\n",
        "* Qual a função de vizinhança utilizada;\n",
        "* Quais critérios são utilizados para realização da busca.\n",
        "\n",
        "A implementação deve retornar alguma solução viável ao problema em tempo aceitável (menos de 20 segundos).  \n",
        "\n",
        "O aluno pode utilizar qualquer linguagem de programação para resolver o problema."
      ],
      "metadata": {
        "id": "96Q9fI2KSNoZ"
      }
    },
    {
      "cell_type": "markdown",
      "source": [
        "## Implementação"
      ],
      "metadata": {
        "id": "7o6_qcigoRmY"
      }
    },
    {
      "cell_type": "markdown",
      "source": [
        "**Para o problema modelado anteriormente será utilizada a heurística Subida/Descida de Encosta (Hill Climbing) para realizar a busca por soluções.**"
      ],
      "metadata": {
        "id": "T0oYJHmStZt5"
      }
    },
    {
      "cell_type": "markdown",
      "source": [
        "### Como a solução é codificada:"
      ],
      "metadata": {
        "id": "RiwEDB6ZZzdh"
      }
    },
    {
      "cell_type": "markdown",
      "source": [
        "* A solução é representada como uma lista de listas de 0s e 1s.\n",
        "\n",
        "* Cada posição da lista representa a alocação (ou não) de uma empresa a um projeto.\n",
        "\n",
        "* $$x_{ij} = 1 \\\\\\text{Significa que a empresa } E_i \\text{ foi alocada ao projeto } P_j \\\\ x_{ij} \\in \\{0, 1\\} \\quad \\forall i, j\\ = \\{1,2,3,4,5,6,7,8,9\\}$$\n",
        "\n",
        "* Exemplo de uma solução:\n",
        "\n",
        "[  \n",
        " [0, 1, 0, 0, 0, 0, 0, 0, 0],  \n",
        " [1, 0, 0, 0, 0, 0, 0, 0, 0],  \n",
        " [0, 0, 0, 0, 1, 0, 0, 0, 0],  \n",
        " [0, 0, 1, 0, 0, 0, 0, 0, 0],  \n",
        " [0, 0, 0, 1, 0, 0, 0, 0, 0],  \n",
        " [0, 0, 0, 0, 0, 1, 0, 0, 0],  \n",
        " [0, 0, 0, 0, 0, 0, 1, 0, 0],  \n",
        " [0, 0, 0, 0, 0, 0, 0, 1, 0],  \n",
        " [0, 0, 0, 0, 0, 0, 0, 0, 1]  \n",
        "]\n",
        "\n",
        "A Empresa 1 fará o Projeto 2 (o custo será 18).\n",
        "\n",
        "A Empresa 2 fará o Projeto 1 (o custo será 19).\n",
        "\n",
        "A Empresa 3 fará o Projeto 5 (o custo será 12).\n",
        "\n",
        "A Empresa 4 fará o Projeto 3 (o custo será 20).\n",
        "\n",
        "A Empresa 5 fará o Projeto 4 (o custo será 14).\n",
        "\n",
        "A Empresa 6 fará o Projeto 6 (o custo será 8).\n",
        "\n",
        "A Empresa 7 fará o Projeto 7 (o custo será 9).\n",
        "\n",
        "A Empresa 8 fará o Projeto 8 (o custo será 10).\n",
        "\n",
        "A Empresa 9 fará o Projeto 9 (o custo será 16).\n",
        "\n",
        "E o custo total seria a soma desses valores:\n",
        "$$18+19+12+20+14+8+9+10+16=126$$"
      ],
      "metadata": {
        "id": "gNzB6N7Auk_w"
      }
    },
    {
      "cell_type": "markdown",
      "source": [
        "### Como a solução inicial é gerada:"
      ],
      "metadata": {
        "id": "_cT6uVm_vgRe"
      }
    },
    {
      "cell_type": "markdown",
      "source": [
        "* A solução inicial é gerada aleatoriamente da seguinte forma:\n",
        "\n",
        " * Primeiramente é gerada uma lista inicial com os 9 numeros de 0 a 8\n",
        " * Em seguida essa lista é embaralhada\n",
        " * Cria - se a lista de listas com todos os elementos 0\n",
        " * Por fim, com base na lista inicial embaralhada são atribuidos os projetos as empresas trocando um 0 de cada lista por 1\n",
        "\n",
        "* Esse método de criação da solução inicial garante que cada lista menor dentro da lista maior seja composta por um único 1 e o restante 0s, assim as restrições são cumpridas."
      ],
      "metadata": {
        "id": "txSN4jynZ9Uk"
      }
    },
    {
      "cell_type": "code",
      "source": [
        "import random\n",
        "\n",
        "def gera_solucao_inicial():\n",
        "    lista_inicial = list(range(9))\n",
        "    random.shuffle(lista_inicial)\n",
        "    solucao_inicial = [[0 for _ in range(9)] for _ in range(9)]\n",
        "    for i in range(9):\n",
        "        solucao_inicial[i][lista_inicial[i]] = 1\n",
        "    return solucao_inicial\n",
        "\n",
        "print(gera_solucao_inicial())"
      ],
      "metadata": {
        "colab": {
          "base_uri": "https://localhost:8080/",
          "height": 0
        },
        "id": "-kfjMFdUdLQ3",
        "outputId": "a36f4af6-98eb-4746-995c-6f18ece39e1e"
      },
      "execution_count": 5,
      "outputs": [
        {
          "output_type": "stream",
          "name": "stdout",
          "text": [
            "[[1, 0, 0, 0, 0, 0, 0, 0, 0], [0, 0, 0, 0, 0, 1, 0, 0, 0], [0, 0, 0, 0, 1, 0, 0, 0, 0], [0, 0, 0, 0, 0, 0, 0, 1, 0], [0, 0, 0, 1, 0, 0, 0, 0, 0], [0, 0, 1, 0, 0, 0, 0, 0, 0], [0, 0, 0, 0, 0, 0, 1, 0, 0], [0, 0, 0, 0, 0, 0, 0, 0, 1], [0, 1, 0, 0, 0, 0, 0, 0, 0]]\n"
          ]
        }
      ]
    },
    {
      "cell_type": "markdown",
      "source": [
        "### Qual a função de vizinhança utilizada:"
      ],
      "metadata": {
        "id": "HAovK1MYks7Y"
      }
    },
    {
      "cell_type": "markdown",
      "source": [
        "* A função de vizinhança cria novas soluções a partir da solução atual trocando os projetos entre duas empresas diferentes (é uma permutação dos projetos entre empresas).\n",
        "\n",
        "* Assim, para cada geração de vizinhos são gerados 36 vizinhos.\n",
        "\n",
        "* Em resumo: troca de dois projetos entre duas empresas é o movimento de vizinhança."
      ],
      "metadata": {
        "id": "JeTbOf6xvz5v"
      }
    },
    {
      "cell_type": "code",
      "source": [
        "def gera_vizinhos(solucao):\n",
        "    vizinhos = []\n",
        "    for i in range(9):\n",
        "        for j in range(i + 1, 9):\n",
        "            # Encontra o projeto atual de cada empresa\n",
        "            projeto_i = solucao[i].index(1)\n",
        "            projeto_j = solucao[j].index(1)\n",
        "\n",
        "            # Criar novo vizinho trocando projetos\n",
        "            novo = copy.deepcopy(solucao)\n",
        "            novo[i][projeto_i], novo[i][projeto_j] = 0, 1\n",
        "            novo[j][projeto_j], novo[j][projeto_i] = 0, 1\n",
        "            vizinhos.append(novo)\n",
        "    return vizinhos"
      ],
      "metadata": {
        "id": "xIx3qoUKh6dG"
      },
      "execution_count": null,
      "outputs": []
    },
    {
      "cell_type": "markdown",
      "source": [
        "### Quais critérios são utilizados para realização da busca:"
      ],
      "metadata": {
        "id": "kQXvsMJwkope"
      }
    },
    {
      "cell_type": "markdown",
      "source": [
        "O algoritmo utilizado é Hill Climbing (subida da encosta):\n",
        "\n",
        "* A cada iteração:\n",
        "\n",
        " * Calcula-se o custo de todos os vizinhos gerados.\n",
        "\n",
        " * Escolhe-se o vizinho com o menor custo (se for melhor que o atual).\n",
        "\n",
        " * Atualiza-se a solução atual para este vizinho.\n",
        "\n",
        "* A busca continua enquanto houver melhoria (ou seja, enquanto encontrar vizinhos melhores).\n",
        "\n",
        "* Quando nenhum vizinho tem custo menor que a solução atual, a busca é encerrada (ótimo local)."
      ],
      "metadata": {
        "id": "AiPvDebxwG5m"
      }
    },
    {
      "cell_type": "markdown",
      "source": [
        "### Algoritmo Completo"
      ],
      "metadata": {
        "id": "PWFdro3Mjyu-"
      }
    },
    {
      "cell_type": "code",
      "source": [
        "import random\n",
        "import copy\n",
        "\n",
        "custo = [\n",
        "    [12, 18, 15, 22, 9, 14, 20, 11, 17],  # E1\n",
        "    [19, 8, 13, 25, 16, 10, 7, 21, 24],  # E2\n",
        "    [6, 14, 27, 10, 12, 19, 23, 16, 8],  # E3\n",
        "    [17, 11, 20, 9, 18, 13, 25, 14, 22],  # E4\n",
        "    [10, 23, 16, 14, 7, 21, 12, 19, 15],  # E5\n",
        "    [13, 25, 9, 17, 11, 8, 16, 22, 20],  # E6\n",
        "    [21, 16, 24, 12, 20, 15, 9, 18, 10],  # E7\n",
        "    [8, 19, 11, 16, 22, 17, 14, 10, 13],  # E8\n",
        "    [15, 10, 18, 21, 13, 12, 22, 9, 16]  # E9\n",
        "]\n",
        "\n",
        "def gera_solucao_inicial():\n",
        "    lista_inicial = list(range(9))\n",
        "    random.shuffle(lista_inicial)\n",
        "    solucao_inicial = [[0 for _ in range(9)] for _ in range(9)]\n",
        "    for i in range(9):\n",
        "        solucao_inicial[i][lista_inicial[i]] = 1\n",
        "    return solucao_inicial\n",
        "\n",
        "def calcular_custo(solucao):\n",
        "    total = 0\n",
        "    for i in range(9):\n",
        "        for j in range(9):\n",
        "            if solucao[i][j] == 1:\n",
        "                total += custo[i][j]\n",
        "    return total\n",
        "\n",
        "def gera_vizinhos(solucao):\n",
        "    vizinhos = []\n",
        "    for i in range(9):\n",
        "        for j in range(i + 1, 9):\n",
        "            # Encontra o projeto atual de cada empresa\n",
        "            projeto_i = solucao[i].index(1)\n",
        "            projeto_j = solucao[j].index(1)\n",
        "\n",
        "            # Criar novo vizinho trocando projetos\n",
        "            novo = copy.deepcopy(solucao)\n",
        "            novo[i][projeto_i], novo[i][projeto_j] = 0, 1\n",
        "            novo[j][projeto_j], novo[j][projeto_i] = 0, 1\n",
        "            vizinhos.append(novo)\n",
        "    return vizinhos\n",
        "\n",
        "def hill_climbing(solucao_inicial):\n",
        "    solucao_atual = solucao_inicial\n",
        "    custo_atual = calcular_custo(solucao_atual)\n",
        "\n",
        "    melhorou = True\n",
        "    while melhorou:\n",
        "        melhorou = False\n",
        "        vizinhos = gera_vizinhos(solucao_atual)\n",
        "        melhor_vizinho = None\n",
        "        melhor_custo = custo_atual\n",
        "        for vizinho in vizinhos:\n",
        "            custo_vizinho = calcular_custo(vizinho)\n",
        "            if custo_vizinho < melhor_custo:\n",
        "                melhor_vizinho = vizinho\n",
        "                melhor_custo = custo_vizinho\n",
        "        if melhor_vizinho:\n",
        "            solucao_atual = melhor_vizinho\n",
        "            custo_atual = melhor_custo\n",
        "            melhorou = True\n",
        "\n",
        "    return solucao_atual, custo_atual\n",
        "\n",
        "\n",
        "solucao_inicial = gera_solucao_inicial()\n",
        "\n",
        "solucao_final, custo_minimo = hill_climbing(solucao_inicial)\n",
        "\n",
        "for linha in solucao_final:\n",
        "    print(linha)\n",
        "print(f\"Custo total: {custo_minimo}\")\n",
        "\n",
        "print(\"\\nEmpresa -> Projeto atribuído:\")\n",
        "for i in range(9):\n",
        "    projeto = solucao_final[i].index(1)\n",
        "    print(f\"Empresa E{i + 1} -> Projeto P{projeto + 1}\")\n"
      ],
      "metadata": {
        "colab": {
          "base_uri": "https://localhost:8080/",
          "height": 0
        },
        "id": "Qktwnz2RjtcB",
        "outputId": "1f8dd2aa-8d58-442e-b7ad-b9a803e46016"
      },
      "execution_count": 6,
      "outputs": [
        {
          "output_type": "stream",
          "name": "stdout",
          "text": [
            "[0, 0, 0, 0, 0, 0, 0, 1, 0]\n",
            "[0, 1, 0, 0, 0, 0, 0, 0, 0]\n",
            "[0, 0, 0, 0, 0, 0, 0, 0, 1]\n",
            "[0, 0, 0, 1, 0, 0, 0, 0, 0]\n",
            "[0, 0, 0, 0, 1, 0, 0, 0, 0]\n",
            "[0, 0, 1, 0, 0, 0, 0, 0, 0]\n",
            "[0, 0, 0, 0, 0, 0, 1, 0, 0]\n",
            "[1, 0, 0, 0, 0, 0, 0, 0, 0]\n",
            "[0, 0, 0, 0, 0, 1, 0, 0, 0]\n",
            "Custo total: 81\n",
            "\n",
            "Empresa -> Projeto atribuído:\n",
            "Empresa E1 -> Projeto P8\n",
            "Empresa E2 -> Projeto P2\n",
            "Empresa E3 -> Projeto P9\n",
            "Empresa E4 -> Projeto P4\n",
            "Empresa E5 -> Projeto P5\n",
            "Empresa E6 -> Projeto P3\n",
            "Empresa E7 -> Projeto P7\n",
            "Empresa E8 -> Projeto P1\n",
            "Empresa E9 -> Projeto P6\n"
          ]
        }
      ]
    }
  ]
}